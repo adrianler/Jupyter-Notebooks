{
 "cells": [
  {
   "cell_type": "code",
   "execution_count": 1,
   "metadata": {
    "collapsed": false,
    "deletable": true,
    "editable": true
   },
   "outputs": [],
   "source": [
    "%matplotlib qt4\n",
    "import hyperspy.api as hs\n",
    "import numpy as np\n",
    "from tqdm import tqdm\n",
    "import matplotlib.pyplot as plt\n",
    "\n",
    "\n",
    "nohx = hs.load('Spectrum 1.dm3')\n",
    "nohx.metadata.General.title = \"No Hard Xray\"\n",
    "nohx.change_dtype('float64')\n",
    "hx = hs.load('Spectrum 2.dm3')\n",
    "nohx.metadata.General.title = \"Hard Xray\"\n",
    "hx.change_dtype('float64')\n",
    "\n",
    "spectra = [nohx,hx]"
   ]
  },
  {
   "cell_type": "code",
   "execution_count": 2,
   "metadata": {
    "collapsed": false,
    "deletable": true,
    "editable": true
   },
   "outputs": [
    {
     "name": "stdout",
     "output_type": "stream",
     "text": [
      "+------+-----------+---------------+\n",
      "|  Id  |   Counts  |      CPS      |\n",
      "+------+-----------+---------------+\n",
      "| NoHX | 2378152.0 | 19817.9333333 |\n",
      "|  HX  | 2325415.0 | 19378.4583333 |\n",
      "+------+-----------+---------------+\n"
     ]
    }
   ],
   "source": [
    "from prettytable import PrettyTable\n",
    "t = PrettyTable(['Id', 'Counts','CPS'])\n",
    "t.add_row(['NoHX', nohx.sum(0).data[0],(nohx.sum(0).data[0]/120.0)])\n",
    "t.add_row(['HX', hx.sum(0).data[0],(hx.sum(0).data[0]/120.0)])\n",
    "print (t)\n"
   ]
  },
  {
   "cell_type": "markdown",
   "metadata": {
    "deletable": true,
    "editable": true
   },
   "source": [
    "# Plotting"
   ]
  },
  {
   "cell_type": "code",
   "execution_count": 3,
   "metadata": {
    "collapsed": false,
    "deletable": true,
    "editable": true
   },
   "outputs": [],
   "source": [
    "# Comparision\n",
    "ax = hs.plot.plot_spectra(spectra,legend=['NoHX','HX'],color=('r','b'))"
   ]
  },
  {
   "cell_type": "code",
   "execution_count": 5,
   "metadata": {
    "collapsed": false,
    "deletable": true,
    "editable": true
   },
   "outputs": [],
   "source": [
    "elements = ['Ni','O','Fe','Mo','Si','Co','C']\n",
    "for i in range(len(spectra)):\n",
    "    spectra[i].add_elements(elements)"
   ]
  },
  {
   "cell_type": "code",
   "execution_count": 145,
   "metadata": {
    "collapsed": false,
    "deletable": true,
    "editable": true
   },
   "outputs": [],
   "source": [
    "spectra[0].plot(True)"
   ]
  },
  {
   "cell_type": "code",
   "execution_count": 670,
   "metadata": {
    "collapsed": false,
    "deletable": true,
    "editable": true
   },
   "outputs": [
    {
     "data": {
      "text/plain": [
       "<matplotlib.axes._subplots.AxesSubplot at 0x23a1e3c8a20>"
      ]
     },
     "execution_count": 670,
     "metadata": {},
     "output_type": "execute_result"
    }
   ],
   "source": [
    "Mo_Ka = []\n",
    "Fe_Ka = []\n",
    "Co_Ka = []\n",
    "for i in range (len(spectra)):\n",
    "    \n",
    "    Mo = spectra[i].isig[1700:1800]\n",
    "    Fe = spectra[i].isig[620:665]\n",
    "    Co = spectra[i].isig[680:720]\n",
    "    Mo_Ka.append(Mo)\n",
    "    Fe_Ka.append(Fe)\n",
    "    Co_Ka.append(Co)\n",
    "    \n",
    "hs.plot.plot_spectra(Mo_Ka,legend=['NoHX','HX'],color=('r','b'))\n",
    "hs.plot.plot_spectra(Fe_Ka,legend=['NoHX','HX'],color=('r','b'))\n",
    "hs.plot.plot_spectra(Co_Ka,legend=['NoHX','HX'],color=('r','b'))"
   ]
  },
  {
   "cell_type": "markdown",
   "metadata": {
    "deletable": true,
    "editable": true
   },
   "source": [
    "# Model"
   ]
  },
  {
   "cell_type": "code",
   "execution_count": 150,
   "metadata": {
    "collapsed": false,
    "deletable": true,
    "editable": true
   },
   "outputs": [],
   "source": [
    "# Single spectra\n",
    "NoHX_model = spectra[0].create_model(auto_background=False)\n",
    "HX_model = spectra[1].create_model(auto_background=False)\n",
    "\n",
    "NoHX_model.fit()\n",
    "HX_model.fit()\n"
   ]
  },
  {
   "cell_type": "markdown",
   "metadata": {
    "deletable": true,
    "editable": true
   },
   "source": [
    "# Comparing different order polynomial\n",
    " "
   ]
  },
  {
   "cell_type": "code",
   "execution_count": 166,
   "metadata": {
    "collapsed": false,
    "deletable": true,
    "editable": true
   },
   "outputs": [],
   "source": [
    "# Create some number of new models of the same spectra. Each of them will append an unique background.\n",
    "\n",
    "NoHX_models = []\n",
    "HX_models = []\n",
    "\n",
    "for i in range (10):\n",
    "    NoHX_model_i = spectra[0].create_model(auto_background=False)\n",
    "    NoHX_models.append(NoHX_model_i)\n",
    "\n",
    "for i in range (10):\n",
    "    HX_model_i = spectra[1].create_model(auto_background=False)\n",
    "    HX_models.append(HX_model_i)\n"
   ]
  },
  {
   "cell_type": "code",
   "execution_count": 167,
   "metadata": {
    "collapsed": false,
    "deletable": true,
    "editable": true
   },
   "outputs": [
    {
     "name": "stderr",
     "output_type": "stream",
     "text": [
      "100%|██████████████████████████████████████████████████████████████████████████████████| 10/10 [00:08<00:00,  1.12it/s]\n",
      "100%|██████████████████████████████████████████████████████████████████████████████████| 10/10 [00:08<00:00,  1.02it/s]\n"
     ]
    }
   ],
   "source": [
    "import time\n",
    "a = np.arange(1,30)\n",
    "\n",
    "NoHX_chisq = []\n",
    "NoHX_fit_timer = []\n",
    "for i in tqdm(range(len(NoHX_models))):\n",
    "    start = time.time()\n",
    "    NoHX_models[i].add_polynomial_background(order=a[i])\n",
    "    NoHX_models[i].fit(bounded=True)\n",
    "    NoHX_models[i].fit_background()\n",
    "    NoHX_chisq.append(NoHX_models[i].red_chisq()[0])\n",
    "    stop = time.time()\n",
    "    timeduration = (stop-start)\n",
    "    NoHX_fit_timer.append(timeduration)\n",
    "\n",
    "HX_chisq = []\n",
    "HX_fit_timer = []\n",
    "for i in tqdm(range(len(HX_models))):\n",
    "    start = time.time()\n",
    "    HX_models[i].add_polynomial_background(order=a[i])\n",
    "    HX_models[i].fit(bounded=True)\n",
    "    HX_models[i].fit_background()\n",
    "    HX_chisq.append(HX_models[i].red_chisq()[0])\n",
    "    stop = time.time()\n",
    "    timeduration = (stop-start)\n",
    "    HX_fit_timer.append(timeduration)\n",
    "        "
   ]
  },
  {
   "cell_type": "code",
   "execution_count": 178,
   "metadata": {
    "collapsed": false,
    "deletable": true,
    "editable": true
   },
   "outputs": [],
   "source": [
    "from __future__ import print_function\n",
    "\n",
    "import sys\n",
    "import numpy as np\n",
    "import matplotlib\n",
    "import matplotlib.pyplot as plt\n",
    "from cycler import cycler\n",
    "\n",
    "#######################\n",
    "#### Plot settings ####\n",
    "#######################\n",
    "\"\"\" \n",
    "Settings for plotting used in matplotlib. Tweak the settings in params for your own liking.\n",
    "One addition setting is found under ## Labels which determine the position, labelsize and \n",
    "textbox of additional text added to the plot.\n",
    "\n",
    "Comment out cycler('marker', ....) to remove markers. \n",
    "Use figure.dpi if raster format.  \n",
    "\n",
    "\n",
    "\n",
    "See http://matplotlib.org/users/customizing.html for more parameters.\n",
    "\"\"\"\n",
    "\n",
    "## Declare parameters for plots\n",
    "output_name = 'chi2andtimevspolynomialdegree'\n",
    "fileformat= 'pdf'           # Choose \"png\", \"eps\" or \"pdf\". Default is png. Supported formats: emf, eps,  pdf, png, ps, raw, rgba, svg, svgz.  \n",
    "params = {'figure.figsize'       : [10,7],\n",
    "          #'figure.subplot.left'  : 0.15,\n",
    "          #'figure.subplot.right' : 0.88,\n",
    "          #'figure.subplot.bottom': 0.14,  \n",
    "          #'figure.subplot.top'   : 0.89  \n",
    "          #'figure.dpi'           : 600\n",
    "          'axes.labelsize'       : 20,\n",
    "          'axes.titlesize'       : 26,\n",
    "          'axes.linewidth'       : 1.5,\n",
    "          'axes.prop_cycle'      : cycler('color',['r', 'g', 'b', 'y','c','violet','orange','m','brown','k']) +\n",
    "                                   cycler('marker',['s','^','o','x','.','*','D','p','8','h']),\n",
    "          \n",
    "          'xtick.labelsize'      : 15,\n",
    "          'xtick.major.pad'      : 8,\n",
    "          'xtick.major.size'     : 10,\n",
    "          'xtick.minor.size'     : 4,\n",
    "\n",
    "          'ytick.labelsize'      : 15,\n",
    "          'ytick.major.pad'      : 8,\n",
    "          'ytick.major.size'     : 10,\n",
    "          'ytick.minor.size'     : 4, \n",
    "\n",
    "          'legend.loc'           : 'upper right',\n",
    "          'legend.frameon'       : True,\n",
    "          'legend.numpoints'     : 1,\n",
    "          'legend.fontsize'      : 22,\n",
    "\n",
    "          'lines.markersize'     : 15,\n",
    "          'lines.markeredgewidth': 1.0,\n",
    "          'lines.linewidth'      : 2,                            \n",
    "\n",
    "          'font.family'          : 'sans-serif',\n",
    "          'font.serif'           : 'Arial'\n",
    "          }\n",
    "\n",
    "##  Reading the parameters declared above   \n",
    "plt.rcParams.update(params)\n",
    "\n",
    "## Set up figure (single, subplot etc)\n",
    "fig = plt.figure(1)\n",
    "ax1=fig.add_subplot(211)\n",
    "ax2=fig.add_subplot(212, sharex=ax1)\n",
    "\n",
    "'''\n",
    "ax3=fig.add_subplot(313)\n",
    "ax1=fig.add_subplot(311, sharex = ax3, sharey = ax3)\n",
    "ax2=fig.add_subplot(312, sharex = ax3, sharey = ax3)\n",
    "'''\n",
    "\n",
    "## Labels\n",
    "'''\n",
    "Set x- and y-label and x- and y-limit\n",
    "'''\n",
    "ax1.set_xlabel('# degree polynomial')\n",
    "ax1.set_ylabel('Red. $\\chi^2$')\n",
    "#ax1.text(.5, 80, 'a)',bbox=dict(facecolor='white', edgecolor='white'), color='black', fontsize=26) #ax1.text(x-position, y-position, 'text')\n",
    "ax1.set_ylim([-10,15000])\n",
    "ax1.set_xlim([0,11])\n",
    "\n",
    "\n",
    "ax2.set_ylabel('Fitting time [s]')\n",
    "ax2.set_ylim([0,3])\n",
    "\n",
    "\n",
    "## Data\n",
    "x = np.linspace(1,len(NoHX_chisq),len(NoHX_chisq))\n",
    "y1 = NoHX_chisq\n",
    "y2 = HX_chisq\n",
    "\n",
    "y3 = NoHX_fit_timer\n",
    "y4 = HX_fit_timer \n",
    "## Plotting\n",
    "'''\n",
    "Plot the desired data. Use dashes = [a,b,c,d] for linestyle. a points on, b off, c on, d off\n",
    "'''\n",
    "\n",
    "plt.tick_params(axis='both',direction='in',which='both')\n",
    "\n",
    "ax1.plot(x,y1,label='No HX', dashes=[3,3])\n",
    "ax1.plot(x,y2,label='HX', dashes=[3,3])\n",
    "ax1.legend()\n",
    "ax2.plot(x,y3,label='', dashes=[3,3])\n",
    "ax2.plot(x,y4,label='', dashes=[3,3])\n",
    "plt.tight_layout(pad=1.)\n",
    "plt.savefig(output_name+'.'+fileformat)\n",
    "plt.show()\n"
   ]
  },
  {
   "cell_type": "code",
   "execution_count": null,
   "metadata": {
    "collapsed": true
   },
   "outputs": [],
   "source": [
    "NoHX_model.red_chisq()"
   ]
  },
  {
   "cell_type": "markdown",
   "metadata": {
    "deletable": true,
    "editable": true
   },
   "source": [
    "#  Get intensity under fitted Gaussian"
   ]
  },
  {
   "cell_type": "code",
   "execution_count": 21,
   "metadata": {
    "collapsed": false
   },
   "outputs": [
    {
     "name": "stdout",
     "output_type": "stream",
     "text": [
      "11668.0386102\n",
      "11668.038610197756\n"
     ]
    }
   ],
   "source": [
    "# Get intensities. These are equivalent.\n",
    "test = HX_model.get_lines_intensity()\n",
    "print (test[7].data[0])\n",
    "print(HX_model.components.Mo_Ka.parameters[0].value)"
   ]
  },
  {
   "cell_type": "code",
   "execution_count": 854,
   "metadata": {
    "collapsed": false,
    "deletable": true,
    "editable": true
   },
   "outputs": [
    {
     "data": {
      "text/plain": [
       "[9644.3440342299782,\n",
       " 7898.7274956758574,\n",
       " 7502.1595952829457,\n",
       " 7467.4176280566971,\n",
       " 7467.4528003540681,\n",
       " 6826.4019459546071,\n",
       " 5620.3362770780332,\n",
       " 4554.9165765224079,\n",
       " 4210.3891268358393,\n",
       " 4102.9379095279137,\n",
       " 3697.8684481132796,\n",
       " 2929.6047687076602,\n",
       " 3056.931623439641]"
      ]
     },
     "execution_count": 854,
     "metadata": {},
     "output_type": "execute_result"
    }
   ],
   "source": [
    "Mo_Ka_A = []\n",
    "Fe_Ka_A = []\n",
    "Cr_Ka_A = []\n",
    "Mo_Ka_A = []\n",
    "for i in tqdm(range(len(NoHX_models))):\n",
    "    \n",
    "    "
   ]
  },
  {
   "cell_type": "code",
   "execution_count": 124,
   "metadata": {
    "collapsed": false,
    "deletable": true,
    "editable": true
   },
   "outputs": [],
   "source": [
    "NoHX_model.add_family_lines()"
   ]
  },
  {
   "cell_type": "code",
   "execution_count": 165,
   "metadata": {
    "collapsed": false
   },
   "outputs": [],
   "source": [
    "NoHX_models[15].plot(True)"
   ]
  },
  {
   "cell_type": "code",
   "execution_count": 77,
   "metadata": {
    "collapsed": false
   },
   "outputs": [],
   "source": [
    "NoHX_model.xray_lines[0].bmin = 0.0"
   ]
  },
  {
   "cell_type": "code",
   "execution_count": 82,
   "metadata": {
    "collapsed": false
   },
   "outputs": [
    {
     "data": {
      "text/plain": [
       "0.0"
      ]
     },
     "execution_count": 82,
     "metadata": {},
     "output_type": "execute_result"
    }
   ],
   "source": [
    "NoHX_model.xray_lines[0].bmin"
   ]
  },
  {
   "cell_type": "code",
   "execution_count": null,
   "metadata": {
    "collapsed": true
   },
   "outputs": [],
   "source": []
  },
  {
   "cell_type": "code",
   "execution_count": null,
   "metadata": {
    "collapsed": true
   },
   "outputs": [],
   "source": []
  },
  {
   "cell_type": "code",
   "execution_count": null,
   "metadata": {
    "collapsed": true
   },
   "outputs": [],
   "source": []
  },
  {
   "cell_type": "code",
   "execution_count": null,
   "metadata": {
    "collapsed": true
   },
   "outputs": [],
   "source": []
  },
  {
   "cell_type": "code",
   "execution_count": null,
   "metadata": {
    "collapsed": true
   },
   "outputs": [],
   "source": []
  },
  {
   "cell_type": "code",
   "execution_count": null,
   "metadata": {
    "collapsed": true
   },
   "outputs": [],
   "source": []
  },
  {
   "cell_type": "code",
   "execution_count": null,
   "metadata": {
    "collapsed": true
   },
   "outputs": [],
   "source": []
  },
  {
   "cell_type": "code",
   "execution_count": null,
   "metadata": {
    "collapsed": true
   },
   "outputs": [],
   "source": []
  },
  {
   "cell_type": "code",
   "execution_count": null,
   "metadata": {
    "collapsed": true
   },
   "outputs": [],
   "source": []
  },
  {
   "cell_type": "code",
   "execution_count": null,
   "metadata": {
    "collapsed": true
   },
   "outputs": [],
   "source": []
  },
  {
   "cell_type": "code",
   "execution_count": null,
   "metadata": {
    "collapsed": true
   },
   "outputs": [],
   "source": []
  },
  {
   "cell_type": "code",
   "execution_count": null,
   "metadata": {
    "collapsed": true
   },
   "outputs": [],
   "source": []
  },
  {
   "cell_type": "code",
   "execution_count": null,
   "metadata": {
    "collapsed": true
   },
   "outputs": [],
   "source": []
  },
  {
   "cell_type": "markdown",
   "metadata": {},
   "source": [
    "# Test fit with all componenets bmin=0.0\n",
    "This was not needed, as passing `bounded=True` to m.fit(bounded=True) automatically sets bmin=0.0."
   ]
  },
  {
   "cell_type": "code",
   "execution_count": 148,
   "metadata": {
    "collapsed": false
   },
   "outputs": [],
   "source": [
    "NoHX_models2 = []\n",
    "HX_models2 = []\n",
    "\n",
    "for i in range (15):\n",
    "    NoHX_model_i = spectra[0].create_model(auto_background=False)\n",
    "    for j in range(len(NoHX_model_i.xray_lines)):\n",
    "        NoHX_model_i.xray_lines[j].A.bmin = 0.0\n",
    "    for l in range(len(NoHX_model_i.family_lines)):\n",
    "        NoHX_model_i.family_lines[l].A.bmin = 0.0\n",
    "    NoHX_models2.append(NoHX_model_i)\n",
    "\n",
    "for i in range (15):\n",
    "    HX_model_i = spectra[1].create_model(auto_background=False)\n",
    "    for j in range(len(HX_model_i.xray_lines)):\n",
    "        HX_model_i.xray_lines[j].A.bmin = 0.0\n",
    "    for l in range(len(HX_model_i.family_lines)):\n",
    "        HX_model_i.family_lines[l].A.bmin = 0.0\n",
    "    HX_models2.append(HX_model_i)\n",
    "    \n"
   ]
  },
  {
   "cell_type": "code",
   "execution_count": 149,
   "metadata": {
    "collapsed": false
   },
   "outputs": [
    {
     "name": "stderr",
     "output_type": "stream",
     "text": [
      "100%|██████████████████████████████████████████████████████████████████████████████████| 15/15 [00:32<00:00,  6.23s/it]\n",
      "100%|██████████████████████████████████████████████████████████████████████████████████| 15/15 [00:22<00:00,  3.21s/it]\n"
     ]
    }
   ],
   "source": [
    "import time\n",
    "a = np.arange(1,30)\n",
    "NoHX_chisq2 = []\n",
    "NoHX_fit_timer2 = []\n",
    "for i in tqdm(range(len(NoHX_models2))):\n",
    "    start = time.time()\n",
    "    NoHX_models2[i].add_polynomial_background(order=a[i])\n",
    "    NoHX_models2[i].fit(bounded=True)\n",
    "    NoHX_models2[i].fit_background()\n",
    "    NoHX_chisq2.append(NoHX_models2[i].red_chisq()[0])\n",
    "    stop = time.time()\n",
    "    timeduration = (stop-start)\n",
    "    NoHX_fit_timer2.append(timeduration)\n",
    "\n",
    "HX_chisq2 = []\n",
    "HX_fit_timer2 = []\n",
    "for i in tqdm(range(len(HX_models2))):\n",
    "    start = time.time()\n",
    "    HX_models2[i].add_polynomial_background(order=a[i])\n",
    "    HX_models2[i].fit(bounded=True)\n",
    "    HX_models2[i].fit_background()\n",
    "    HX_chisq2.append(HX_models2[i].red_chisq()[0])\n",
    "    stop = time.time()\n",
    "    timeduration = (stop-start)\n",
    "    HX_fit_timer2.append(timeduration)\n",
    "        "
   ]
  },
  {
   "cell_type": "code",
   "execution_count": 129,
   "metadata": {
    "collapsed": false
   },
   "outputs": [],
   "source": [
    "from __future__ import print_function\n",
    "\n",
    "import sys\n",
    "import numpy as np\n",
    "import matplotlib\n",
    "import matplotlib.pyplot as plt\n",
    "from cycler import cycler\n",
    "\n",
    "#######################\n",
    "#### Plot settings ####\n",
    "#######################\n",
    "\"\"\" \n",
    "Settings for plotting used in matplotlib. Tweak the settings in params for your own liking.\n",
    "One addition setting is found under ## Labels which determine the position, labelsize and \n",
    "textbox of additional text added to the plot.\n",
    "\n",
    "Comment out cycler('marker', ....) to remove markers. \n",
    "Use figure.dpi if raster format.  \n",
    "\n",
    "\n",
    "\n",
    "See http://matplotlib.org/users/customizing.html for more parameters.\n",
    "\"\"\"\n",
    "\n",
    "## Declare parameters for plots\n",
    "output_name = 'chi2andtimevspolynomialdegree_bounded'\n",
    "fileformat= 'pdf'           # Choose \"png\", \"eps\" or \"pdf\". Default is png. Supported formats: emf, eps,  pdf, png, ps, raw, rgba, svg, svgz.  \n",
    "params = {'figure.figsize'       : [10,7],\n",
    "          #'figure.subplot.left'  : 0.15,\n",
    "          #'figure.subplot.right' : 0.88,\n",
    "          #'figure.subplot.bottom': 0.14,  \n",
    "          #'figure.subplot.top'   : 0.89  \n",
    "          #'figure.dpi'           : 600\n",
    "          'axes.labelsize'       : 20,\n",
    "          'axes.titlesize'       : 26,\n",
    "          'axes.linewidth'       : 1.5,\n",
    "          'axes.prop_cycle'      : cycler('color',['r', 'g', 'b', 'y','c','violet','orange','m','brown','k']) +\n",
    "                                   cycler('marker',['s','^','o','x','.','*','D','p','8','h']),\n",
    "          \n",
    "          'xtick.labelsize'      : 15,\n",
    "          'xtick.major.pad'      : 8,\n",
    "          'xtick.major.size'     : 10,\n",
    "          'xtick.minor.size'     : 4,\n",
    "\n",
    "          'ytick.labelsize'      : 15,\n",
    "          'ytick.major.pad'      : 8,\n",
    "          'ytick.major.size'     : 10,\n",
    "          'ytick.minor.size'     : 4, \n",
    "\n",
    "          'legend.loc'           : 'upper right',\n",
    "          'legend.frameon'       : True,\n",
    "          'legend.numpoints'     : 1,\n",
    "          'legend.fontsize'      : 26,\n",
    "\n",
    "          'lines.markersize'     : 15,\n",
    "          'lines.markeredgewidth': 1.0,\n",
    "          'lines.linewidth'      : 2,                            \n",
    "\n",
    "          'font.family'          : 'sans-serif',\n",
    "          'font.serif'           : 'Arial'\n",
    "          }\n",
    "\n",
    "##  Reading the parameters declared above   \n",
    "plt.rcParams.update(params)\n",
    "\n",
    "## Set up figure (single, subplot etc)\n",
    "fig = plt.figure(1)\n",
    "ax1=fig.add_subplot(211,)\n",
    "ax2=fig.add_subplot(212, sharex=ax1)\n",
    "\n",
    "'''\n",
    "ax3=fig.add_subplot(313)\n",
    "ax1=fig.add_subplot(311, sharex = ax3, sharey = ax3)\n",
    "ax2=fig.add_subplot(312, sharex = ax3, sharey = ax3)\n",
    "'''\n",
    "\n",
    "## Labels\n",
    "'''\n",
    "Set x- and y-label and x- and y-limit\n",
    "'''\n",
    "ax1.set_xlabel('# degree polynomial')\n",
    "ax1.set_ylabel('$\\chi^2$')\n",
    "#ax1.text(.5, 80, 'a)',bbox=dict(facecolor='white', edgecolor='white'), color='black', fontsize=26) #ax1.text(x-position, y-position, 'text')\n",
    "ax1.set_ylim([-10,10000])\n",
    "ax1.set_xlim([0,18])\n",
    "\n",
    "\n",
    "ax2.set_ylabel('Fitting time [s]')\n",
    "ax2.set_ylim([0,10])\n",
    "\n",
    "\n",
    "## Data unbinned!\n",
    "x = np.linspace(1,len(NoHX_chisq),len(NoHX_chisq))\n",
    "y1 = NoHX_chisq\n",
    "y2 = HX_chisq\n",
    "\n",
    "y3 = NoHX_fit_timer\n",
    "y4 = HX_fit_timer \n",
    "\n",
    "# BINNED!\n",
    "y1_2 = NoHX_chisq2\n",
    "y2_2 = HX_chisq2\n",
    "\n",
    "y3_2 = NoHX_fit_timer2\n",
    "y4_2 = HX_fit_timer2 \n",
    "## Plotting\n",
    "'''\n",
    "Plot the desired data. Use dashes = [a,b,c,d] for linestyle. a points on, b off, c on, d off\n",
    "'''\n",
    "\n",
    "plt.tick_params(axis='both',direction='in')\n",
    "\n",
    "\n",
    "ax1.plot(x,y1,label='NoHX-unbinned', dashes=[3,3])\n",
    "ax1.plot(x,y1_2,label='NoHX-binned', dashes=[3,3])\n",
    "ax1.plot(x,y2,label='HX-unbinned', dashes=[3,3])\n",
    "ax1.plot(x,y2_2,label='HX-binned', dashes=[3,3])\n",
    "\n",
    "ax2.plot(x,y3,label='NoHX-unbinned', dashes=[3,3])\n",
    "ax2.plot(x,y3_2,label='NoHX-binned', dashes=[3,3])\n",
    "ax2.plot(x,y4,label='HX-unbinned', dashes=[3,3])\n",
    "ax2.plot(x,y4_2,label='HX-binned', dashes=[3,3])\n",
    "ax2.legend()\n",
    "\n",
    "plt.tight_layout(pad=1.)\n",
    "plt.savefig(output_name+'.'+fileformat)\n",
    "plt.show()\n"
   ]
  }
 ],
 "metadata": {
  "kernelspec": {
   "display_name": "Python 3",
   "language": "python",
   "name": "python3"
  },
  "language_info": {
   "codemirror_mode": {
    "name": "ipython",
    "version": 3
   },
   "file_extension": ".py",
   "mimetype": "text/x-python",
   "name": "python",
   "nbconvert_exporter": "python",
   "pygments_lexer": "ipython3",
   "version": "3.5.1"
  }
 },
 "nbformat": 4,
 "nbformat_minor": 2
}
