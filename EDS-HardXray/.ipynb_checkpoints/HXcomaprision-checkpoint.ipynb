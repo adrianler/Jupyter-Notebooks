{
 "cells": [
  {
   "cell_type": "markdown",
   "metadata": {
    "collapsed": false,
    "deletable": true,
    "editable": true
   },
   "source": [
    "# Comparision between HX and no HX\n",
    "- Experimental parameter: 0 tilt, 120 s dwell, TEM mode, condensor lens (?50 micron?)\n",
    "    - With and without HX.\n",
    "- Notebook is made to compare the fitting using different order of the background polynomial to find out what is optimal.\n",
    "    - The statistical error obtained using 'red_chisq' is not absolute as the variance is not provide in the metadata.\n",
    "        It is however showing the trends?\n",
    "        \n",
    "- It seems that 8' order background polynomial provides a good fit. "
   ]
  },
  {
   "cell_type": "code",
   "execution_count": 44,
   "metadata": {
    "collapsed": true,
    "deletable": true,
    "editable": true
   },
   "outputs": [],
   "source": [
    "%matplotlib qt4\n",
    "import hyperspy.api as hs\n",
    "import numpy as np\n",
    "from tqdm import tqdm\n",
    "import matplotlib\n",
    "import matplotlib.pyplot as plt\n",
    "import matplotlib.ticker as plticker\n",
    "from matplotlib.ticker import AutoMinorLocator\n",
    "from __future__ import print_function\n",
    "import sys\n",
    "from cycler import cycler\n",
    "\n",
    "\n",
    "nohx = hs.load('Spectrum 1.dm3')\n",
    "nohx.metadata.General.title = \"No Hard Xray\"\n",
    "nohx.change_dtype('float32')\n",
    "hx = hs.load('Spectrum 2.dm3')\n",
    "hx.metadata.General.title = \"Hard Xray\"\n",
    "hx.change_dtype('float32')\n",
    "\n",
    "spectra = [nohx,hx]"
   ]
  },
  {
   "cell_type": "code",
   "execution_count": 45,
   "metadata": {
    "collapsed": false,
    "deletable": true,
    "editable": true
   },
   "outputs": [
    {
     "name": "stdout",
     "output_type": "stream",
     "text": [
      "+------+-------------+---------------+\n",
      "|  Id  |    Counts   |      CPS      |\n",
      "+------+-------------+---------------+\n",
      "| NoHX | 2.37815e+06 | 19817.9333333 |\n",
      "|  HX  | 2.32542e+06 | 19378.4583333 |\n",
      "+------+-------------+---------------+\n"
     ]
    }
   ],
   "source": [
    "from prettytable import PrettyTable\n",
    "t = PrettyTable(['Id', 'Counts','CPS'])\n",
    "t.add_row(['NoHX', nohx.sum(0).data[0],(nohx.sum(0).data[0]/120.0)])\n",
    "t.add_row(['HX', hx.sum(0).data[0],(hx.sum(0).data[0]/120.0)])\n",
    "print (t)\n"
   ]
  },
  {
   "cell_type": "markdown",
   "metadata": {
    "deletable": true,
    "editable": true
   },
   "source": [
    "# Plotting"
   ]
  },
  {
   "cell_type": "code",
   "execution_count": 46,
   "metadata": {
    "collapsed": false,
    "deletable": true,
    "editable": true
   },
   "outputs": [],
   "source": [
    "# Plot a rough comparision by overlapping the spectra. \n",
    "\n",
    "## Declare parameters for plots\n",
    "output_name = 'Images/Roughcomparision'\n",
    "fileformat= 'pdf'           # Choose \"png\", \"eps\" or \"pdf\". Default is png. Supported formats: emf, eps,  pdf, png, ps, raw, rgba, svg, svgz.  \n",
    "params = {'figure.figsize'       : [10,7],\n",
    "          #'figure.subplot.left'  : 0.15,\n",
    "          #'figure.subplot.right' : 0.88,\n",
    "          #'figure.subplot.bottom': 0.14,  \n",
    "          #'figure.subplot.top'   : 0.89  \n",
    "          #'figure.dpi'           : 600\n",
    "          'axes.labelsize'       : 18,\n",
    "          'axes.titlesize'       : 26,\n",
    "          'axes.linewidth'       : 2,\n",
    "          'axes.prop_cycle'      : cycler('color',['r', 'b', 'g', 'y','c','violet','orange','m','brown','k']),# +\n",
    "                                   #cycler('marker',['s','^','o','x','.','*','D','p','8','h']),\n",
    "          \n",
    "          'xtick.labelsize'      : 15,\n",
    "          'xtick.major.pad'      : 8,\n",
    "          'xtick.major.size'     : 15,\n",
    "          'xtick.minor.size'     : 10,\n",
    "          'xtick.major.width'    : 2,   \n",
    "          'xtick.minor.width'    : 1.5,\n",
    "\n",
    "          'ytick.labelsize'      : 15,\n",
    "          'ytick.major.pad'      : 8,\n",
    "          'ytick.major.size'     : 15,\n",
    "          'ytick.minor.size'     : 10, \n",
    "          'ytick.major.width'    : 2,   \n",
    "          'ytick.minor.width'    : 1.5, \n",
    "\n",
    "          'legend.loc'           : 'upper right',\n",
    "          'legend.frameon'       : True,\n",
    "          'legend.numpoints'     : 1,\n",
    "          'legend.fontsize'      : 15,\n",
    "\n",
    "          'lines.markersize'     : 3,\n",
    "          'lines.markeredgewidth': 1.0,\n",
    "          'lines.linewidth'      : 2,                            \n",
    "\n",
    "          'font.family'          : 'sans-serif',\n",
    "          'font.serif'           : 'Arial'\n",
    "          }\n",
    "\n",
    "##  Reading the parameters declared above   \n",
    "plt.rcParams.update(params)\n",
    "\n",
    "\n",
    "## Set up figure (single, subplot etc)\n",
    "ax1 = hs.plot.plot_spectra(spectra,legend=['NoHX','HX'])\n",
    "ax1.yaxis.set_minor_locator(AutoMinorLocator(5))\n",
    "ax1.xaxis.set_minor_locator(AutoMinorLocator(5))\n",
    "ax1.tick_params(axis='both',direction='in',which='both')\n",
    "ax1.set_ybound(lower=-3000)\n",
    "plt.tight_layout(pad=.1)\n",
    "plt.savefig(output_name+'.'+fileformat)\n",
    "plt.show()\n",
    "\n"
   ]
  },
  {
   "cell_type": "code",
   "execution_count": 47,
   "metadata": {
    "collapsed": false,
    "deletable": true,
    "editable": true
   },
   "outputs": [],
   "source": [
    "elements = ['Ni','O','Fe','Mo','Si','Co','C','Cu']\n",
    "for i in range(len(spectra)):\n",
    "    spectra[i].add_elements(elements)"
   ]
  },
  {
   "cell_type": "code",
   "execution_count": 6,
   "metadata": {
    "collapsed": false,
    "deletable": true,
    "editable": true
   },
   "outputs": [],
   "source": [
    "spectra[0].plot(True)"
   ]
  },
  {
   "cell_type": "code",
   "execution_count": 48,
   "metadata": {
    "collapsed": false,
    "deletable": true,
    "editable": true
   },
   "outputs": [],
   "source": [
    "# Plots the individual peaks as .pdf.\n",
    "\n",
    "Mo_Ka = []\n",
    "Mo_La = []\n",
    "Fe_Ka = []\n",
    "Co_Ka = []\n",
    "\n",
    "for i in range (len(spectra)):\n",
    "    Mo_K = spectra[i].isig[1700:1800]\n",
    "    Mo_L = spectra[i].isig[210:270]\n",
    "    Fe = spectra[i].isig[620:665]\n",
    "    Co = spectra[i].isig[680:720]\n",
    "    Mo_Ka.append(Mo_K)\n",
    "    Mo_La.append(Mo_L)\n",
    "    Fe_Ka.append(Fe)\n",
    "    Co_Ka.append(Co)\n",
    "    \n",
    "peaks_list = [Mo_Ka,Mo_La,Fe_Ka,Co_Ka]  \n",
    "\n",
    "## Plotting\n",
    "params = {\n",
    "          'lines.markersize'     : 10,\n",
    "          'lines.markeredgewidth': 1.0,\n",
    "          'lines.linewidth'      : 2,                            \n",
    "          'axes.prop_cycle'      : cycler('color',['r', 'b', 'g', 'y','c','violet','orange','m','brown','k'])+\n",
    "                                   cycler('marker',['s','^','o','x','.','*','D','p','8','h']),\n",
    "          }\n",
    "\n",
    "##  Reading the parameters declared above   \n",
    "plt.rcParams.update(params)\n",
    "\n",
    "## \n",
    "Output_file = ['Mo_Ka','Mo_La','Fe_Ka','Co_Ka']\n",
    "for i in range(len(Output_file)):\n",
    "    ax1 = hs.plot.plot_spectra(peaks_list[i])\n",
    "    ax1.yaxis.set_minor_locator(AutoMinorLocator(5))\n",
    "    ax1.xaxis.set_minor_locator(AutoMinorLocator(5))\n",
    "    ax1.tick_params(axis='both',direction='in',which='both')\n",
    "    plt.tight_layout(pad=.1)\n",
    "    ax1.xaxis.label.set_visible(False)\n",
    "    ax1.yaxis.label.set_visible(False)\n",
    "    plt.savefig('Images/%s' %Output_file[i] +'.'+'pdf') \n",
    "    plt.close()"
   ]
  },
  {
   "cell_type": "markdown",
   "metadata": {
    "deletable": true,
    "editable": true
   },
   "source": [
    "# Comparing different order polynomial\n",
    " "
   ]
  },
  {
   "cell_type": "code",
   "execution_count": 49,
   "metadata": {
    "collapsed": false,
    "deletable": true,
    "editable": true
   },
   "outputs": [],
   "source": [
    "# Create some number of new models of the same spectra. Each of them will append an unique background.\n",
    "\n",
    "NoHX_models = []\n",
    "HX_models = []\n",
    "\n",
    "for i in range (15):\n",
    "    NoHX_model_i = spectra[0].create_model(auto_background=False)\n",
    "    NoHX_models.append(NoHX_model_i)\n",
    "\n",
    "for i in range (15):\n",
    "    HX_model_i = spectra[1].create_model(auto_background=False)\n",
    "    HX_models.append(HX_model_i)"
   ]
  },
  {
   "cell_type": "code",
   "execution_count": 50,
   "metadata": {
    "collapsed": false,
    "deletable": true,
    "editable": true
   },
   "outputs": [
    {
     "name": "stderr",
     "output_type": "stream",
     "text": [
      "100%|██████████████████████████████████████████████████████████████████████████████████| 15/15 [00:40<00:00,  7.84s/it]\n",
      "100%|██████████████████████████████████████████████████████████████████████████████████| 15/15 [00:17<00:00,  1.19s/it]\n"
     ]
    }
   ],
   "source": [
    "# Appending background to model, fit model and fit background. \n",
    "import time\n",
    "a = np.arange(1,30)\n",
    "\n",
    "NoHX_chisq = []\n",
    "NoHX_fit_timer = []\n",
    "for i in tqdm(range(len(NoHX_models))):\n",
    "    start = time.time()\n",
    "    NoHX_models[i].add_polynomial_background(order=a[i])\n",
    "    NoHX_models[i].fit(bounded=True)\n",
    "    NoHX_models[i].fit_background()\n",
    "    NoHX_chisq.append(NoHX_models[i].red_chisq()[0])\n",
    "    stop = time.time()\n",
    "    timeduration = (stop-start)\n",
    "    NoHX_fit_timer.append(timeduration)\n",
    "\n",
    "HX_chisq = []\n",
    "HX_fit_timer = []\n",
    "for i in tqdm(range(len(HX_models))):\n",
    "    start = time.time()\n",
    "    HX_models[i].add_polynomial_background(order=a[i])\n",
    "    HX_models[i].fit(bounded=True)\n",
    "    HX_models[i].fit_background()\n",
    "    HX_chisq.append(HX_models[i].red_chisq()[0])\n",
    "    stop = time.time()\n",
    "    timeduration = (stop-start)\n",
    "    HX_fit_timer.append(timeduration)\n",
    "        "
   ]
  },
  {
   "cell_type": "code",
   "execution_count": 51,
   "metadata": {
    "collapsed": false,
    "deletable": true,
    "editable": true
   },
   "outputs": [],
   "source": [
    "# Plot godness of fit, and time of fit versus polynomial order.\n",
    "\n",
    "from matplotlib import gridspec\n",
    "#### Data  ####\n",
    "x = np.linspace(1,len(NoHX_chisq),len(NoHX_chisq))\n",
    "y1 = NoHX_chisq\n",
    "y2 = HX_chisq\n",
    "y3 = NoHX_fit_timer\n",
    "y4 = HX_fit_timer \n",
    "\n",
    "\n",
    "fig = plt.figure()\n",
    "gs = gridspec.GridSpec(2, 1, height_ratios=[1, 1]) # Set height ratios for subplots.\n",
    "\n",
    "# First subplot\n",
    "ax0 = plt.subplot(gs[0])\n",
    "NoHX_c_plot, = ax0.plot(x,y1)\n",
    "HX_c_plot, = ax0.plot(x,y2)\n",
    "plt.title(\"Fit and time, vs. polynomial order\")\n",
    "# Second subplot\n",
    "ax1 = plt.subplot(gs[1], sharex = ax0)\n",
    "NoHX_timer_plot, = ax1.plot(x, y3)\n",
    "HX_timer_plot, = ax1.plot(x, y4)\n",
    "\n",
    "### axis properties ###\n",
    "ax1.set_xlabel('# degree polynomial')\n",
    "ax0.set_ylabel('Red. $\\chi^2$')\n",
    "ax0.set_ylim([-10,15000])\n",
    "ax1.set_xlim([0,16])\n",
    "ax1.set_ylabel('Fitting time [s]')\n",
    "ax1.set_ylim([0,5])\n",
    "ax1.set_xlabel('Polynomial order [#]')\n",
    "ax0.tick_params(axis='y',direction='in',which='both')\n",
    "ax0.tick_params(axis='x',direction='in',which='both')\n",
    "ax1.tick_params(axis='x',direction='in',which='both',bottom=True, top =True)\n",
    "ax1.tick_params(axis='y',direction='in',which='both')\n",
    "ax0.yaxis.set_minor_locator(AutoMinorLocator(5))\n",
    "ax0.xaxis.set_minor_locator(AutoMinorLocator(5))\n",
    "ax1.yaxis.set_minor_locator(AutoMinorLocator(5))\n",
    "ax1.xaxis.set_minor_locator(AutoMinorLocator(5))\n",
    "\n",
    "plt.setp(ax0.get_xticklabels(), visible=False)\n",
    "# Remove last tick label for the second subplot\n",
    "yticks = ax1.yaxis.get_major_ticks()\n",
    "yticks[-1].label1.set_visible(False)\n",
    "\n",
    "# put legned on first subplot\n",
    "ax1.legend((NoHX_c_plot, HX_c_plot), ('NoHX', 'HX'), loc='upper left')\n",
    "\n",
    "\n",
    "# remove vertical gap between subplots\n",
    "\n",
    "plt.tight_layout(pad=1.)\n",
    "plt.subplots_adjust(hspace=.0)\n",
    "plt.savefig('Images/rchi2andtimevspolynomial'+'.'+'pdf')\n",
    "plt.show()\n"
   ]
  },
  {
   "cell_type": "markdown",
   "metadata": {
    "deletable": true,
    "editable": true
   },
   "source": [
    "#  Get intensity under fitted Gaussian\n",
    "These are equivalent.\n",
    "- test = HX_model.get_lines_intensity()\n",
    "- print (test[7].data[0])\n",
    "- print(HX_model.components.Mo_Ka.parameters[0].value)"
   ]
  },
  {
   "cell_type": "code",
   "execution_count": 52,
   "metadata": {
    "collapsed": false,
    "deletable": true,
    "editable": true
   },
   "outputs": [
    {
     "name": "stderr",
     "output_type": "stream",
     "text": [
      "100%|██████████████████████████████████████████████████████████████████████████████████| 15/15 [00:00<00:00, 44.66it/s]\n",
      "100%|██████████████████████████████████████████████████████████████████████████████████| 15/15 [00:00<00:00, 45.37it/s]\n"
     ]
    }
   ],
   "source": [
    "# Get intensity of the different polynomial fits.\n",
    "Mo_Ka_A_NoHX = []\n",
    "Mo_La_A_NoHX = []\n",
    "Fe_Ka_A_NoHX = []\n",
    "Co_Ka_A_NoHX = []\n",
    "Cu_Ka_A_NoHX = []\n",
    "Ni_Ka_A_NoHX = []\n",
    "Ni_La_A_NoHX = []\n",
    "background_NoHX = []\n",
    "NoHX_modelvssignal_residual = []\n",
    "for i in tqdm(range(len(NoHX_models))):\n",
    "    Mo_Ka_A_NoHX.append(NoHX_models[i].components.Mo_Ka.parameters[0].value)\n",
    "    Mo_La_A_NoHX.append(NoHX_models[i].components.Mo_La.parameters[0].value)\n",
    "    Fe_Ka_A_NoHX.append(NoHX_models[i].components.Fe_Ka.parameters[0].value)\n",
    "    Co_Ka_A_NoHX.append(NoHX_models[i].components.Co_Ka.parameters[0].value)\n",
    "    Cu_Ka_A_NoHX.append(NoHX_models[i].components.Cu_Ka.parameters[0].value)\n",
    "    Ni_Ka_A_NoHX.append(NoHX_models[i].components.Ni_Ka.parameters[0].value)\n",
    "    Ni_La_A_NoHX.append(NoHX_models[i].components.Ni_La.parameters[0].value)\n",
    "    background_NoHX.append(NoHX_models[i].as_signal([-1]).sum(0).data[0])\n",
    "    NoHX_modelvssignal_residual.append((NoHX_models[i].as_signal([])-nohx).data.sum())\n",
    "\n",
    "\n",
    "Mo_Ka_A_HX = []\n",
    "Mo_La_A_HX = []\n",
    "Fe_Ka_A_HX = []\n",
    "Co_Ka_A_HX = []\n",
    "Cu_Ka_A_HX = []\n",
    "Ni_Ka_A_HX = []\n",
    "Ni_La_A_HX = []\n",
    "background_HX = []\n",
    "HX_modelvssignal_residual = []\n",
    "for i in tqdm(range(len(HX_models))):\n",
    "    Mo_Ka_A_HX.append(HX_models[i].components.Mo_Ka.parameters[0].value)\n",
    "    Mo_La_A_HX.append(HX_models[i].components.Mo_La.parameters[0].value)\n",
    "    Fe_Ka_A_HX.append(HX_models[i].components.Fe_Ka.parameters[0].value)\n",
    "    Co_Ka_A_HX.append(HX_models[i].components.Co_Ka.parameters[0].value)\n",
    "    Cu_Ka_A_HX.append(HX_models[i].components.Cu_Ka.parameters[0].value)\n",
    "    Ni_Ka_A_HX.append(HX_models[i].components.Ni_Ka.parameters[0].value)\n",
    "    Ni_La_A_HX.append(HX_models[i].components.Ni_La.parameters[0].value)\n",
    "    background_HX.append(HX_models[i].as_signal([-1]).sum(0).data[0])\n",
    "    HX_modelvssignal_residual.append((HX_models[i].as_signal([])-hx).data.sum())\n",
    "    \n",
    "# Difference:\n",
    "Mo_Ka_diff = np.array(Mo_Ka_A_NoHX)-np.array(Mo_Ka_A_HX)\n",
    "Mo_La_diff = np.array(Mo_La_A_NoHX)-np.array(Mo_La_A_HX)\n",
    "Fe_Ka_diff = np.array(Fe_Ka_A_NoHX)-np.array(Fe_Ka_A_HX)\n",
    "Co_Ka_diff = np.array(Co_Ka_A_NoHX)-np.array(Co_Ka_A_HX)\n",
    "Cu_Ka_diff = np.array(Cu_Ka_A_NoHX)-np.array(Cu_Ka_A_HX)\n",
    "Ni_Ka_diff = np.array(Ni_Ka_A_NoHX)-np.array(Ni_Ka_A_HX)\n",
    "Ni_La_diff = np.array(Ni_La_A_NoHX)-np.array(Ni_La_A_HX)\n",
    "background_diff = np.array(background_NoHX)-np.array(background_HX)"
   ]
  },
  {
   "cell_type": "code",
   "execution_count": 53,
   "metadata": {
    "collapsed": false,
    "deletable": true,
    "editable": true
   },
   "outputs": [],
   "source": [
    "## Declare parameters for plots\n",
    "\n",
    "## Set up figure (single, subplot etc)\n",
    "fig = plt.figure(1)\n",
    "ax1=fig.add_subplot(111)\n",
    "\n",
    "## Labels\n",
    "ax1.set_xlabel('Polynomial order [#]')\n",
    "ax1.set_ylabel('Intensity')\n",
    "\n",
    "ax1.set_ylim([-20000,30000])\n",
    "ax1.set_xlim([0,16])\n",
    "ax1.yaxis.set_minor_locator(AutoMinorLocator(5))\n",
    "ax1.xaxis.set_minor_locator(AutoMinorLocator(5))\n",
    "\n",
    "plt.title(\"Intensity difference\")\n",
    "\n",
    "## Data\n",
    "label_list = ['Mo_Ka','Mo_La','Fe_Ka', 'Co_Ka','Cu_Ka', 'Ni_Ka','Ni_La','Background']\n",
    "y = [Mo_Ka_diff,Mo_La_diff,Fe_Ka_diff,Co_Ka_diff,Cu_Ka_diff, Ni_Ka_diff,Ni_La_diff,background_diff]\n",
    "x = [np.linspace(1,len(NoHX_chisq),len(NoHX_chisq))]*(len(y))\n",
    "## Plotting\n",
    "plt.tick_params(axis='both',direction='in',which='both')\n",
    "\n",
    "for i in range(len(label_list)):\n",
    "    plt.plot(x[i],y[i],label=label_list[i])\n",
    "\n",
    "ax1.legend(loc='lower left')\n",
    "plt.tight_layout(pad=1.)\n",
    "plt.savefig('Images/Diff_A-intensity'+'.'+'pdf')\n",
    "plt.show()\n",
    "\n"
   ]
  },
  {
   "cell_type": "code",
   "execution_count": 54,
   "metadata": {
    "collapsed": false,
    "deletable": true,
    "editable": true
   },
   "outputs": [],
   "source": [
    "#### Comparision between raw data and model using residual ####\n",
    "\n",
    "fig = plt.figure(1)\n",
    "ax1=fig.add_subplot(111)\n",
    "ax1.set_xlabel('Polynomial order [#]')\n",
    "ax1.set_ylabel('Residual')\n",
    "plt.title(\"abs(Model - raw) residual\")\n",
    "\n",
    "ax1.set_ylim([0,300000])\n",
    "ax1.set_xlim([0,16])\n",
    "ax1.yaxis.set_minor_locator(AutoMinorLocator(5))\n",
    "ax1.xaxis.set_minor_locator(AutoMinorLocator(5))\n",
    "plt.tick_params(axis='both',direction='in',which='both')\n",
    "\n",
    "x = np.linspace(1,len(NoHX_chisq),len(NoHX_chisq))\n",
    "y1 = np.array(np.abs(NoHX_modelvssignal_residual))\n",
    "y2 = np.array(np.abs(HX_modelvssignal_residual))\n",
    "plt.plot(x,y1,label='No HX')\n",
    "plt.plot(x,y2,label='HX')\n",
    "ax1.legend(loc='upper left')\n",
    "plt.tight_layout(pad=1.)\n",
    "plt.savefig('Images/Modelvsraw-residual'+'.'+'pdf')\n",
    "\n"
   ]
  },
  {
   "cell_type": "markdown",
   "metadata": {
    "collapsed": true,
    "deletable": true,
    "editable": true
   },
   "source": [
    "# Absolute evaluation using background order 8"
   ]
  },
  {
   "cell_type": "code",
   "execution_count": 55,
   "metadata": {
    "collapsed": true
   },
   "outputs": [],
   "source": [
    "# Create models\n",
    "NoHX_model = NoHX_models[7]\n",
    "HX_model = HX_models[7]"
   ]
  },
  {
   "cell_type": "code",
   "execution_count": 57,
   "metadata": {
    "collapsed": false
   },
   "outputs": [],
   "source": [
    "# Make a nice plot of the two models with all componenets and the full fit.\n",
    "NoHX_model_individual_assignal = []\n",
    "for i in range(len(NoHX_model)):\n",
    "    NoHX_model_individual_assignal.append(NoHX_model.as_signal([i]))\n",
    "NoHX_model_assignal = NoHX_model.as_signal()\n",
    "\n",
    "## Plotting\n",
    "fig = plt.figure()\n",
    "ax1 = fig.add_subplot(111)\n",
    "ax2 = fig.add_subplot(111)\n",
    "ax3 = fig.add_subplot(111)\n",
    "\n",
    "# I want the lines of the componenets to be thinner than the full model.\n",
    "params = {\n",
    "          'lines.markersize'     : 10,\n",
    "          'lines.markeredgewidth': 1.0,\n",
    "          'lines.linewidth'      : 1,                            \n",
    "          'axes.prop_cycle'      : cycler('color',['r', 'b', 'g', 'y','c','violet','orange','m','brown','k']),#+\n",
    "                                   #cycler('marker',['s','^','o','x','.','*','D','p','8','h']),\n",
    "          }\n",
    "\n",
    "##  Reading the parameters declared above   \n",
    "plt.rcParams.update(params)\n",
    "## Plot\n",
    "for i in range (len(NoHX_model_individual_assignal)):\n",
    "    ax1.plot(NoHX_model_individual_assignal[i])\n",
    "\n",
    "ax2.plot(NoHX_model_assignal.data,linewidth=2,label='Resulting Model')\n",
    "ax3.plot(nohx,linewidth=0,marker='x',markersize=1,label='Raw Data') # Rawdata\n",
    "## Axes properties\n",
    "plt.title(\"Fitted Model - NoHX\")\n",
    "ax2.set_ylim([-2000,15000])\n",
    "ax2.set_xlim([0,len(NoHX_model_assignal.data/100)])\n",
    "ax2.yaxis.set_minor_locator(AutoMinorLocator(5))\n",
    "ax2.xaxis.set_minor_locator(AutoMinorLocator(5))\n",
    "ax2.tick_params(axis='both',direction='in',which='both')\n",
    "ax2.set_xlabel('Energy [KeV]')\n",
    "ax2.set_ylabel('Intensity')\n",
    "\n",
    "ax2.legend(loc='upper right')\n",
    "\n",
    "plt.tight_layout(pad=.1)\n",
    "plt.show()\n",
    "plt.savefig('Images/Model_NoHX'+'.'+'pdf')\n",
    "\n",
    "\n",
    "\n"
   ]
  },
  {
   "cell_type": "code",
   "execution_count": 58,
   "metadata": {
    "collapsed": false
   },
   "outputs": [],
   "source": [
    "HX_model_individual_assignal = []\n",
    "for i in range(len(HX_model)):\n",
    "    HX_model_individual_assignal.append(HX_model.as_signal([i]))\n",
    "HX_model_assignal = HX_model.as_signal()\n",
    "\n",
    "\n",
    "\n",
    "\n",
    "## Plotting\n",
    "fig = plt.figure()\n",
    "ax1 = fig.add_subplot(111)\n",
    "ax2 = fig.add_subplot(111)\n",
    "ax3 = fig.add_subplot(111)\n",
    "\n",
    "params = {\n",
    "          'lines.markersize'     : 10,\n",
    "          'lines.markeredgewidth': 1.0,\n",
    "          'lines.linewidth'      : 1,                            \n",
    "          'axes.prop_cycle'      : cycler('color',['r', 'b', 'g', 'y','c','violet','orange','m','brown','k']),#+\n",
    "                                   #cycler('marker',['s','^','o','x','.','*','D','p','8','h']),\n",
    "          }\n",
    "\n",
    "##  Reading the parameters declared above   \n",
    "plt.rcParams.update(params)\n",
    "\n",
    "for i in range (len(HX_model_individual_assignal)):\n",
    "    ax1.plot(HX_model_individual_assignal[i])\n",
    "\n",
    "\n",
    "ax2.plot(HX_model_assignal.data,linewidth=2,label='Full Model')\n",
    "ax3.plot(hx,linewidth=0,marker='x',markersize=1,label='Raw Data')\n",
    "plt.title(\"Fitted Model - HX\")\n",
    "## Axes\n",
    "#ax1.set_ylim([-20,15000])\n",
    "#ax1.set_xlim([-100,len(HX_model_assignal.data/100)])\n",
    "ax2.set_ylim([-2000,15000])\n",
    "ax2.set_xlim([0,len(HX_model_assignal.data/100)])\n",
    "ax2.yaxis.set_minor_locator(AutoMinorLocator(5))\n",
    "ax2.xaxis.set_minor_locator(AutoMinorLocator(5))\n",
    "ax2.tick_params(axis='both',direction='in',which='both')\n",
    "ax2.set_xlabel('Energy [KeV]')\n",
    "ax2.set_ylabel('Intensity')\n",
    "ax2.legend(loc='upper right')\n",
    "\n",
    "plt.tight_layout(pad=.1)\n",
    "plt.show()\n",
    "plt.savefig('Images/Model_HX'+'.'+'pdf')\n",
    "\n",
    "\n"
   ]
  },
  {
   "cell_type": "code",
   "execution_count": 61,
   "metadata": {
    "collapsed": false
   },
   "outputs": [
    {
     "name": "stdout",
     "output_type": "stream",
     "text": [
      "+--------+-----------+-----------+------------+\n",
      "|  Peak  |    NoHX   |     HX    | Difference |\n",
      "+--------+-----------+-----------+------------+\n",
      "|  C_Ka  |  29372.85 |  27762.81 |  1610.04   |\n",
      "| Co_Ka  |  10764.82 |  9615.62  |   1149.2   |\n",
      "| Co_Kb  |  1374.67  |  1227.91  |   146.75   |\n",
      "| Co_La  |    0.0    |    0.0    |    0.0     |\n",
      "| Co_Ll  |    0.0    |    0.0    |    0.0     |\n",
      "| Co_Ln  |    0.0    |    0.0    |    0.0     |\n",
      "| Co_Lb3 |    0.0    |    0.0    |    0.0     |\n",
      "| Cu_Ka  |  2537.96  |  2475.42  |   62.54    |\n",
      "| Cu_Kb  |   333.92  |   325.69  |    8.23    |\n",
      "| Cu_La  |  35514.34 |  35550.6  |   -36.25   |\n",
      "| Cu_Ll  |  2983.56  |  2986.61  |   -3.05    |\n",
      "| Cu_Ln  |   704.6   |   705.32  |   -0.72    |\n",
      "| Cu_Lb1 |  1135.39  |  1136.55  |   -1.16    |\n",
      "| Cu_Lb3 |   40.49   |   40.53   |   -0.04    |\n",
      "| Fe_Ka  |  11190.01 |  10096.29 |  1093.72   |\n",
      "| Fe_Kb  |  1423.37  |  1284.25  |   139.12   |\n",
      "| Fe_La  |    0.0    |    0.0    |    0.0     |\n",
      "| Fe_Ll  |    0.0    |    0.0    |    0.0     |\n",
      "| Fe_Ln  |    0.0    |    0.0    |    0.0     |\n",
      "| Fe_Lb3 |    0.0    |    0.0    |    0.0     |\n",
      "| Mo_Ka  |  21619.91 |  10535.09 |  11084.82  |\n",
      "| Mo_Kb  |  3242.99  |  1580.26  |  1662.72   |\n",
      "| Mo_La  |  8789.97  |  4295.47  |   4494.5   |\n",
      "| Mo_Lg1 |   117.35  |   57.34   |    60.0    |\n",
      "| Mo_Ll  |   364.78  |   178.26  |   186.52   |\n",
      "| Mo_Lb1 |  2877.48  |  1406.16  |  1471.32   |\n",
      "| Mo_Ln  |   112.51  |   54.98   |   57.53    |\n",
      "| Mo_Lg3 |   92.29   |    45.1   |   47.19    |\n",
      "| Mo_Lb3 |   553.68  |   270.57  |   283.11   |\n",
      "| Mo_Lb2 |   396.34  |   193.68  |   202.66   |\n",
      "| Ni_Ka  |  799048.9 | 796003.02 |  3045.88   |\n",
      "| Ni_Kb  | 102038.54 | 101649.59 |   388.96   |\n",
      "| Ni_La  | 342061.73 | 341943.77 |   117.96   |\n",
      "| Ni_Ll  |  48343.58 |  48326.91 |   16.67    |\n",
      "| Ni_Ln  |  33156.04 |  33144.61 |   11.43    |\n",
      "| Ni_Lb1 |  57363.75 |  57343.97 |   19.78    |\n",
      "| Ni_Lb3 |   680.7   |   680.47  |    0.23    |\n",
      "|  O_Ka  | 260513.07 | 258780.68 |  1732.39   |\n",
      "| Si_Ka  |  1057.96  |  1123.24  |   -65.28   |\n",
      "| Si_Kb  |    29.4   |   31.21   |   -1.81    |\n",
      "+--------+-----------+-----------+------------+\n"
     ]
    }
   ],
   "source": [
    "from prettytable import PrettyTable\n",
    "t = PrettyTable(['Peak', 'NoHX','HX','Difference'])\n",
    "for i in range(len(NoHX_model)-1):\n",
    "    t.add_row([NoHX_model[i].name, np.around(NoHX_model[i].A.value,2), np.around(HX_model[i].A.value,2),np.around((NoHX_model[i].A.value-HX_model[i].A.value),2)])\n",
    "print (t)\n",
    "\n",
    "print t."
   ]
  },
  {
   "cell_type": "markdown",
   "metadata": {
    "deletable": true,
    "editable": true
   },
   "source": [
    "# Comparing fitting order. \n",
    "- The correct and best order is: m.fit(bounded) and then m.fit_background()"
   ]
  },
  {
   "cell_type": "code",
   "execution_count": 277,
   "metadata": {
    "collapsed": true,
    "deletable": true,
    "editable": true
   },
   "outputs": [],
   "source": [
    "# Create some number of new models of the same spectra. Each of them will append an unique background.\n",
    "\n",
    "NoHX_models2 = []\n",
    "HX_models2 = []\n",
    "\n",
    "for i in range (10):\n",
    "    NoHX_model_i = spectra[0].create_model(auto_background=False)\n",
    "    NoHX_models2.append(NoHX_model_i)\n",
    "\n",
    "for i in range (10):\n",
    "    HX_model_i = spectra[1].create_model(auto_background=False)\n",
    "    HX_models2.append(HX_model_i)\n"
   ]
  },
  {
   "cell_type": "code",
   "execution_count": 278,
   "metadata": {
    "collapsed": false,
    "deletable": true,
    "editable": true
   },
   "outputs": [
    {
     "name": "stderr",
     "output_type": "stream",
     "text": [
      "100%|██████████████████████████████████████████████████████████████████████████████████| 10/10 [00:17<00:00,  2.04s/it]\n",
      "100%|██████████████████████████████████████████████████████████████████████████████████| 10/10 [00:16<00:00,  1.88s/it]\n"
     ]
    }
   ],
   "source": [
    "import time\n",
    "a = np.arange(1,30)\n",
    "\n",
    "NoHX_chisq2 = []\n",
    "NoHX_fit_timer2 = []\n",
    "for i in tqdm(range(len(NoHX_models2))):\n",
    "    start = time.time()\n",
    "    NoHX_models2[i].add_polynomial_background(order=a[i])\n",
    "    \n",
    "    NoHX_models2[i].fit(bounded=True)\n",
    "    NoHX_models2[i].fit_background()\n",
    "    NoHX_models2[i].fit(bounded=True)\n",
    "\n",
    "    NoHX_chisq2.append(NoHX_models2[i].red_chisq()[0])\n",
    "    stop = time.time()\n",
    "    timeduration = (stop-start)\n",
    "    NoHX_fit_timer2.append(timeduration)\n",
    "\n",
    "HX_chisq2 = []\n",
    "HX_fit_timer2 = []\n",
    "for i in tqdm(range(len(HX_models2))):\n",
    "    start = time.time()\n",
    "    HX_models2[i].add_polynomial_background(order=a[i])\n",
    "    \n",
    "    HX_models2[i].fit(bounded=True)\n",
    "    HX_models2[i].fit_background()\n",
    "    HX_models2[i].fit(bounded=True)\n",
    "    HX_chisq2.append(HX_models2[i].red_chisq()[0])\n",
    "    stop = time.time()\n",
    "    timeduration = (stop-start)\n",
    "    HX_fit_timer2.append(timeduration)\n",
    "        "
   ]
  },
  {
   "cell_type": "code",
   "execution_count": 273,
   "metadata": {
    "collapsed": false,
    "deletable": true,
    "editable": true
   },
   "outputs": [
    {
     "data": {
      "text/plain": [
       "[10734.243646659317,\n",
       " 8671.269501419456,\n",
       " 7921.2369609942471,\n",
       " 7879.2886540698,\n",
       " 7856.3378327891096,\n",
       " 7338.6442139211931,\n",
       " 6465.6685039595895,\n",
       " 5383.7417995469559,\n",
       " 4859.9561745686851,\n",
       " 4289.8091621920166]"
      ]
     },
     "execution_count": 273,
     "metadata": {},
     "output_type": "execute_result"
    }
   ],
   "source": [
    "### Bacground after model ###\n",
    "NoHX_chisq"
   ]
  },
  {
   "cell_type": "code",
   "execution_count": 274,
   "metadata": {
    "collapsed": false,
    "deletable": true,
    "editable": true
   },
   "outputs": [
    {
     "data": {
      "text/plain": [
       "[378269.87298423919,\n",
       " 371355.73262320628,\n",
       " 367472.86593481136,\n",
       " 366583.79185833602,\n",
       " 367291.14210742567,\n",
       " 368199.73903803556,\n",
       " 365088.66459830373,\n",
       " 361904.19778341625,\n",
       " 360488.13113970868,\n",
       " 359365.30368408118]"
      ]
     },
     "execution_count": 274,
     "metadata": {},
     "output_type": "execute_result"
    }
   ],
   "source": [
    "### Bacground first ###\n",
    "NoHX_chisq2"
   ]
  },
  {
   "cell_type": "code",
   "execution_count": 276,
   "metadata": {
    "collapsed": false,
    "deletable": true,
    "editable": true
   },
   "outputs": [
    {
     "data": {
      "text/plain": [
       "[10744.775056862445,\n",
       " 8684.0010605303651,\n",
       " 7936.7748857836741,\n",
       " 7898.6084082727784,\n",
       " 7879.4297118107543,\n",
       " 7363.8357354387472,\n",
       " 6491.1409546419745,\n",
       " 5407.6429339833703,\n",
       " 4883.8940103175582,\n",
       " 4313.1379315161676]"
      ]
     },
     "execution_count": 276,
     "metadata": {},
     "output_type": "execute_result"
    }
   ],
   "source": [
    "### Bacground first, fit and background again ###\n",
    "NoHX_chisq2"
   ]
  },
  {
   "cell_type": "code",
   "execution_count": 280,
   "metadata": {
    "collapsed": false,
    "deletable": true,
    "editable": true
   },
   "outputs": [
    {
     "data": {
      "text/plain": [
       "[378270.72159147216,\n",
       " 371356.16033666668,\n",
       " 367472.70199303876,\n",
       " 366584.26905091997,\n",
       " 367292.96263010637,\n",
       " 368201.79685361014,\n",
       " 365090.95560918003,\n",
       " 361906.18901301175,\n",
       " 360490.2796458372,\n",
       " 359368.73756853479]"
      ]
     },
     "execution_count": 280,
     "metadata": {},
     "output_type": "execute_result"
    }
   ],
   "source": [
    "# Fit, background, fit\n",
    "NoHX_chisq2"
   ]
  }
 ],
 "metadata": {
  "kernelspec": {
   "display_name": "Python 3",
   "language": "python",
   "name": "python3"
  },
  "language_info": {
   "codemirror_mode": {
    "name": "ipython",
    "version": 3
   },
   "file_extension": ".py",
   "mimetype": "text/x-python",
   "name": "python",
   "nbconvert_exporter": "python",
   "pygments_lexer": "ipython3",
   "version": "3.5.1"
  }
 },
 "nbformat": 4,
 "nbformat_minor": 2
}
